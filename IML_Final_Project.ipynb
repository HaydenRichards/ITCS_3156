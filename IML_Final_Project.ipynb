{
  "nbformat": 4,
  "nbformat_minor": 0,
  "metadata": {
    "colab": {
      "provenance": []
    },
    "kernelspec": {
      "name": "python3",
      "display_name": "Python 3"
    },
    "language_info": {
      "name": "python"
    }
  },
  "cells": [
    {
      "cell_type": "code",
      "execution_count": 719,
      "metadata": {
        "id": "KF6YweNV9N-u"
      },
      "outputs": [],
      "source": [
        "import numpy as np\n",
        "import matplotlib.pyplot as plt\n",
        "import pandas as pd\n",
        "import sklearn"
      ]
    },
    {
      "cell_type": "markdown",
      "source": [
        "Load the dataset as a pandas dataframe\n",
        "https://www.kaggle.com/datasets/mylesoneill/magic-the-gathering-cards?resource=download"
      ],
      "metadata": {
        "id": "PX4TCwDyAbyo"
      }
    },
    {
      "cell_type": "code",
      "source": [
        "cards_df = pd.read_json('/content/AllCards.json')"
      ],
      "metadata": {
        "id": "o5zovQgnAZqJ"
      },
      "execution_count": 720,
      "outputs": []
    },
    {
      "cell_type": "code",
      "source": [
        "cards = cards_df.transpose()"
      ],
      "metadata": {
        "id": "7EfWfEs2FGiL"
      },
      "execution_count": 721,
      "outputs": []
    },
    {
      "cell_type": "code",
      "source": [
        "cards.info()"
      ],
      "metadata": {
        "colab": {
          "base_uri": "https://localhost:8080/"
        },
        "id": "6R-iXNMuAf78",
        "outputId": "449f37b6-c341-4825-c1a8-78f6a513e981"
      },
      "execution_count": 722,
      "outputs": [
        {
          "output_type": "stream",
          "name": "stdout",
          "text": [
            "<class 'pandas.core.frame.DataFrame'>\n",
            "Index: 20478 entries, \"Ach! Hans, Run!\" to capital offense\n",
            "Data columns (total 34 columns):\n",
            " #   Column                 Non-Null Count  Dtype \n",
            "---  ------                 --------------  ----- \n",
            " 0   colorIdentity          20478 non-null  object\n",
            " 1   colors                 20478 non-null  object\n",
            " 2   convertedManaCost      20478 non-null  object\n",
            " 3   foreignData            20478 non-null  object\n",
            " 4   layout                 20478 non-null  object\n",
            " 5   legalities             20478 non-null  object\n",
            " 6   manaCost               19270 non-null  object\n",
            " 7   name                   20478 non-null  object\n",
            " 8   printings              20478 non-null  object\n",
            " 9   purchaseUrls           18423 non-null  object\n",
            " 10  rulings                20478 non-null  object\n",
            " 11  scryfallOracleId       20478 non-null  object\n",
            " 12  subtypes               20478 non-null  object\n",
            " 13  supertypes             20478 non-null  object\n",
            " 14  text                   20151 non-null  object\n",
            " 15  type                   20478 non-null  object\n",
            " 16  types                  20478 non-null  object\n",
            " 17  uuid                   20478 non-null  object\n",
            " 18  edhrecRank             19305 non-null  object\n",
            " 19  mtgoFoilId             12622 non-null  object\n",
            " 20  mtgoId                 14963 non-null  object\n",
            " 21  mtgArenaId             2682 non-null   object\n",
            " 22  power                  10747 non-null  object\n",
            " 23  toughness              10747 non-null  object\n",
            " 24  faceConvertedManaCost  447 non-null    object\n",
            " 25  names                  1476 non-null   object\n",
            " 26  side                   493 non-null    object\n",
            " 27  isReserved             571 non-null    object\n",
            " 28  leadershipSkills       1117 non-null   object\n",
            " 29  loyalty                204 non-null    object\n",
            " 30  hand                   107 non-null    object\n",
            " 31  life                   107 non-null    object\n",
            " 32  colorIndicator         98 non-null     object\n",
            " 33  hasNoDeckLimit         4 non-null      object\n",
            "dtypes: object(34)\n",
            "memory usage: 6.0+ MB\n"
          ]
        }
      ]
    },
    {
      "cell_type": "code",
      "source": [
        "cards.head()"
      ],
      "metadata": {
        "colab": {
          "base_uri": "https://localhost:8080/",
          "height": 446
        },
        "id": "VVVgZZBlEnRe",
        "outputId": "363bb8af-6028-48b8-b420-be90cc86e440"
      },
      "execution_count": 723,
      "outputs": [
        {
          "output_type": "execute_result",
          "data": {
            "text/plain": [
              "                              colorIdentity           colors  \\\n",
              "\"Ach! Hans, Run!\"                    [G, R]           [G, R]   \n",
              "\"Rumors of My Death . . .\"              [B]              [B]   \n",
              "1996 World Champion         [B, G, R, U, W]  [B, G, R, U, W]   \n",
              "A Display of My Dark Power               []               []   \n",
              "A Good Thing                         [B, W]           [B, W]   \n",
              "\n",
              "                           convertedManaCost foreignData  layout legalities  \\\n",
              "\"Ach! Hans, Run!\"                        6.0          []  normal         {}   \n",
              "\"Rumors of My Death . . .\"               3.0          []  normal         {}   \n",
              "1996 World Champion                      5.0          []  normal         {}   \n",
              "A Display of My Dark Power               0.0          []  scheme         {}   \n",
              "A Good Thing                             6.0          []  normal         {}   \n",
              "\n",
              "                                   manaCost                        name  \\\n",
              "\"Ach! Hans, Run!\"           {2}{R}{R}{G}{G}           \"Ach! Hans, Run!\"   \n",
              "\"Rumors of My Death . . .\"           {2}{B}  \"Rumors of My Death . . .\"   \n",
              "1996 World Champion         {W}{U}{B}{R}{G}         1996 World Champion   \n",
              "A Display of My Dark Power              NaN  A Display of My Dark Power   \n",
              "A Good Thing                      {4}{W}{B}                A Good Thing   \n",
              "\n",
              "                           printings  \\\n",
              "\"Ach! Hans, Run!\"              [UNH]   \n",
              "\"Rumors of My Death . . .\"     [UST]   \n",
              "1996 World Champion           [PCEL]   \n",
              "A Display of My Dark Power    [OARC]   \n",
              "A Good Thing                [MYSTPT]   \n",
              "\n",
              "                                                                 purchaseUrls  \\\n",
              "\"Ach! Hans, Run!\"           {'cardmarket': 'https://mtgjson.com/links/6227...   \n",
              "\"Rumors of My Death . . .\"  {'cardmarket': 'https://mtgjson.com/links/371e...   \n",
              "1996 World Champion                                                       NaN   \n",
              "A Display of My Dark Power                                                NaN   \n",
              "A Good Thing                                                              NaN   \n",
              "\n",
              "                            ... faceConvertedManaCost names side isReserved  \\\n",
              "\"Ach! Hans, Run!\"           ...                   NaN   NaN  NaN        NaN   \n",
              "\"Rumors of My Death . . .\"  ...                   NaN   NaN  NaN        NaN   \n",
              "1996 World Champion         ...                   NaN   NaN  NaN        NaN   \n",
              "A Display of My Dark Power  ...                   NaN   NaN  NaN        NaN   \n",
              "A Good Thing                ...                   NaN   NaN  NaN        NaN   \n",
              "\n",
              "                           leadershipSkills loyalty hand life colorIndicator  \\\n",
              "\"Ach! Hans, Run!\"                       NaN     NaN  NaN  NaN            NaN   \n",
              "\"Rumors of My Death . . .\"              NaN     NaN  NaN  NaN            NaN   \n",
              "1996 World Champion                     NaN     NaN  NaN  NaN            NaN   \n",
              "A Display of My Dark Power              NaN     NaN  NaN  NaN            NaN   \n",
              "A Good Thing                            NaN     NaN  NaN  NaN            NaN   \n",
              "\n",
              "                           hasNoDeckLimit  \n",
              "\"Ach! Hans, Run!\"                     NaN  \n",
              "\"Rumors of My Death . . .\"            NaN  \n",
              "1996 World Champion                   NaN  \n",
              "A Display of My Dark Power            NaN  \n",
              "A Good Thing                          NaN  \n",
              "\n",
              "[5 rows x 34 columns]"
            ],
            "text/html": [
              "\n",
              "  <div id=\"df-c4412401-f80c-42a1-b345-b4c31624c2c2\" class=\"colab-df-container\">\n",
              "    <div>\n",
              "<style scoped>\n",
              "    .dataframe tbody tr th:only-of-type {\n",
              "        vertical-align: middle;\n",
              "    }\n",
              "\n",
              "    .dataframe tbody tr th {\n",
              "        vertical-align: top;\n",
              "    }\n",
              "\n",
              "    .dataframe thead th {\n",
              "        text-align: right;\n",
              "    }\n",
              "</style>\n",
              "<table border=\"1\" class=\"dataframe\">\n",
              "  <thead>\n",
              "    <tr style=\"text-align: right;\">\n",
              "      <th></th>\n",
              "      <th>colorIdentity</th>\n",
              "      <th>colors</th>\n",
              "      <th>convertedManaCost</th>\n",
              "      <th>foreignData</th>\n",
              "      <th>layout</th>\n",
              "      <th>legalities</th>\n",
              "      <th>manaCost</th>\n",
              "      <th>name</th>\n",
              "      <th>printings</th>\n",
              "      <th>purchaseUrls</th>\n",
              "      <th>...</th>\n",
              "      <th>faceConvertedManaCost</th>\n",
              "      <th>names</th>\n",
              "      <th>side</th>\n",
              "      <th>isReserved</th>\n",
              "      <th>leadershipSkills</th>\n",
              "      <th>loyalty</th>\n",
              "      <th>hand</th>\n",
              "      <th>life</th>\n",
              "      <th>colorIndicator</th>\n",
              "      <th>hasNoDeckLimit</th>\n",
              "    </tr>\n",
              "  </thead>\n",
              "  <tbody>\n",
              "    <tr>\n",
              "      <th>\"Ach! Hans, Run!\"</th>\n",
              "      <td>[G, R]</td>\n",
              "      <td>[G, R]</td>\n",
              "      <td>6.0</td>\n",
              "      <td>[]</td>\n",
              "      <td>normal</td>\n",
              "      <td>{}</td>\n",
              "      <td>{2}{R}{R}{G}{G}</td>\n",
              "      <td>\"Ach! Hans, Run!\"</td>\n",
              "      <td>[UNH]</td>\n",
              "      <td>{'cardmarket': 'https://mtgjson.com/links/6227...</td>\n",
              "      <td>...</td>\n",
              "      <td>NaN</td>\n",
              "      <td>NaN</td>\n",
              "      <td>NaN</td>\n",
              "      <td>NaN</td>\n",
              "      <td>NaN</td>\n",
              "      <td>NaN</td>\n",
              "      <td>NaN</td>\n",
              "      <td>NaN</td>\n",
              "      <td>NaN</td>\n",
              "      <td>NaN</td>\n",
              "    </tr>\n",
              "    <tr>\n",
              "      <th>\"Rumors of My Death . . .\"</th>\n",
              "      <td>[B]</td>\n",
              "      <td>[B]</td>\n",
              "      <td>3.0</td>\n",
              "      <td>[]</td>\n",
              "      <td>normal</td>\n",
              "      <td>{}</td>\n",
              "      <td>{2}{B}</td>\n",
              "      <td>\"Rumors of My Death . . .\"</td>\n",
              "      <td>[UST]</td>\n",
              "      <td>{'cardmarket': 'https://mtgjson.com/links/371e...</td>\n",
              "      <td>...</td>\n",
              "      <td>NaN</td>\n",
              "      <td>NaN</td>\n",
              "      <td>NaN</td>\n",
              "      <td>NaN</td>\n",
              "      <td>NaN</td>\n",
              "      <td>NaN</td>\n",
              "      <td>NaN</td>\n",
              "      <td>NaN</td>\n",
              "      <td>NaN</td>\n",
              "      <td>NaN</td>\n",
              "    </tr>\n",
              "    <tr>\n",
              "      <th>1996 World Champion</th>\n",
              "      <td>[B, G, R, U, W]</td>\n",
              "      <td>[B, G, R, U, W]</td>\n",
              "      <td>5.0</td>\n",
              "      <td>[]</td>\n",
              "      <td>normal</td>\n",
              "      <td>{}</td>\n",
              "      <td>{W}{U}{B}{R}{G}</td>\n",
              "      <td>1996 World Champion</td>\n",
              "      <td>[PCEL]</td>\n",
              "      <td>NaN</td>\n",
              "      <td>...</td>\n",
              "      <td>NaN</td>\n",
              "      <td>NaN</td>\n",
              "      <td>NaN</td>\n",
              "      <td>NaN</td>\n",
              "      <td>NaN</td>\n",
              "      <td>NaN</td>\n",
              "      <td>NaN</td>\n",
              "      <td>NaN</td>\n",
              "      <td>NaN</td>\n",
              "      <td>NaN</td>\n",
              "    </tr>\n",
              "    <tr>\n",
              "      <th>A Display of My Dark Power</th>\n",
              "      <td>[]</td>\n",
              "      <td>[]</td>\n",
              "      <td>0.0</td>\n",
              "      <td>[]</td>\n",
              "      <td>scheme</td>\n",
              "      <td>{}</td>\n",
              "      <td>NaN</td>\n",
              "      <td>A Display of My Dark Power</td>\n",
              "      <td>[OARC]</td>\n",
              "      <td>NaN</td>\n",
              "      <td>...</td>\n",
              "      <td>NaN</td>\n",
              "      <td>NaN</td>\n",
              "      <td>NaN</td>\n",
              "      <td>NaN</td>\n",
              "      <td>NaN</td>\n",
              "      <td>NaN</td>\n",
              "      <td>NaN</td>\n",
              "      <td>NaN</td>\n",
              "      <td>NaN</td>\n",
              "      <td>NaN</td>\n",
              "    </tr>\n",
              "    <tr>\n",
              "      <th>A Good Thing</th>\n",
              "      <td>[B, W]</td>\n",
              "      <td>[B, W]</td>\n",
              "      <td>6.0</td>\n",
              "      <td>[]</td>\n",
              "      <td>normal</td>\n",
              "      <td>{}</td>\n",
              "      <td>{4}{W}{B}</td>\n",
              "      <td>A Good Thing</td>\n",
              "      <td>[MYSTPT]</td>\n",
              "      <td>NaN</td>\n",
              "      <td>...</td>\n",
              "      <td>NaN</td>\n",
              "      <td>NaN</td>\n",
              "      <td>NaN</td>\n",
              "      <td>NaN</td>\n",
              "      <td>NaN</td>\n",
              "      <td>NaN</td>\n",
              "      <td>NaN</td>\n",
              "      <td>NaN</td>\n",
              "      <td>NaN</td>\n",
              "      <td>NaN</td>\n",
              "    </tr>\n",
              "  </tbody>\n",
              "</table>\n",
              "<p>5 rows × 34 columns</p>\n",
              "</div>\n",
              "    <div class=\"colab-df-buttons\">\n",
              "\n",
              "  <div class=\"colab-df-container\">\n",
              "    <button class=\"colab-df-convert\" onclick=\"convertToInteractive('df-c4412401-f80c-42a1-b345-b4c31624c2c2')\"\n",
              "            title=\"Convert this dataframe to an interactive table.\"\n",
              "            style=\"display:none;\">\n",
              "\n",
              "  <svg xmlns=\"http://www.w3.org/2000/svg\" height=\"24px\" viewBox=\"0 -960 960 960\">\n",
              "    <path d=\"M120-120v-720h720v720H120Zm60-500h600v-160H180v160Zm220 220h160v-160H400v160Zm0 220h160v-160H400v160ZM180-400h160v-160H180v160Zm440 0h160v-160H620v160ZM180-180h160v-160H180v160Zm440 0h160v-160H620v160Z\"/>\n",
              "  </svg>\n",
              "    </button>\n",
              "\n",
              "  <style>\n",
              "    .colab-df-container {\n",
              "      display:flex;\n",
              "      gap: 12px;\n",
              "    }\n",
              "\n",
              "    .colab-df-convert {\n",
              "      background-color: #E8F0FE;\n",
              "      border: none;\n",
              "      border-radius: 50%;\n",
              "      cursor: pointer;\n",
              "      display: none;\n",
              "      fill: #1967D2;\n",
              "      height: 32px;\n",
              "      padding: 0 0 0 0;\n",
              "      width: 32px;\n",
              "    }\n",
              "\n",
              "    .colab-df-convert:hover {\n",
              "      background-color: #E2EBFA;\n",
              "      box-shadow: 0px 1px 2px rgba(60, 64, 67, 0.3), 0px 1px 3px 1px rgba(60, 64, 67, 0.15);\n",
              "      fill: #174EA6;\n",
              "    }\n",
              "\n",
              "    .colab-df-buttons div {\n",
              "      margin-bottom: 4px;\n",
              "    }\n",
              "\n",
              "    [theme=dark] .colab-df-convert {\n",
              "      background-color: #3B4455;\n",
              "      fill: #D2E3FC;\n",
              "    }\n",
              "\n",
              "    [theme=dark] .colab-df-convert:hover {\n",
              "      background-color: #434B5C;\n",
              "      box-shadow: 0px 1px 3px 1px rgba(0, 0, 0, 0.15);\n",
              "      filter: drop-shadow(0px 1px 2px rgba(0, 0, 0, 0.3));\n",
              "      fill: #FFFFFF;\n",
              "    }\n",
              "  </style>\n",
              "\n",
              "    <script>\n",
              "      const buttonEl =\n",
              "        document.querySelector('#df-c4412401-f80c-42a1-b345-b4c31624c2c2 button.colab-df-convert');\n",
              "      buttonEl.style.display =\n",
              "        google.colab.kernel.accessAllowed ? 'block' : 'none';\n",
              "\n",
              "      async function convertToInteractive(key) {\n",
              "        const element = document.querySelector('#df-c4412401-f80c-42a1-b345-b4c31624c2c2');\n",
              "        const dataTable =\n",
              "          await google.colab.kernel.invokeFunction('convertToInteractive',\n",
              "                                                    [key], {});\n",
              "        if (!dataTable) return;\n",
              "\n",
              "        const docLinkHtml = 'Like what you see? Visit the ' +\n",
              "          '<a target=\"_blank\" href=https://colab.research.google.com/notebooks/data_table.ipynb>data table notebook</a>'\n",
              "          + ' to learn more about interactive tables.';\n",
              "        element.innerHTML = '';\n",
              "        dataTable['output_type'] = 'display_data';\n",
              "        await google.colab.output.renderOutput(dataTable, element);\n",
              "        const docLink = document.createElement('div');\n",
              "        docLink.innerHTML = docLinkHtml;\n",
              "        element.appendChild(docLink);\n",
              "      }\n",
              "    </script>\n",
              "  </div>\n",
              "\n",
              "\n",
              "<div id=\"df-efa41e7e-31be-46a1-ae0f-e8a2cbf9e0f3\">\n",
              "  <button class=\"colab-df-quickchart\" onclick=\"quickchart('df-efa41e7e-31be-46a1-ae0f-e8a2cbf9e0f3')\"\n",
              "            title=\"Suggest charts\"\n",
              "            style=\"display:none;\">\n",
              "\n",
              "<svg xmlns=\"http://www.w3.org/2000/svg\" height=\"24px\"viewBox=\"0 0 24 24\"\n",
              "     width=\"24px\">\n",
              "    <g>\n",
              "        <path d=\"M19 3H5c-1.1 0-2 .9-2 2v14c0 1.1.9 2 2 2h14c1.1 0 2-.9 2-2V5c0-1.1-.9-2-2-2zM9 17H7v-7h2v7zm4 0h-2V7h2v10zm4 0h-2v-4h2v4z\"/>\n",
              "    </g>\n",
              "</svg>\n",
              "  </button>\n",
              "\n",
              "<style>\n",
              "  .colab-df-quickchart {\n",
              "      --bg-color: #E8F0FE;\n",
              "      --fill-color: #1967D2;\n",
              "      --hover-bg-color: #E2EBFA;\n",
              "      --hover-fill-color: #174EA6;\n",
              "      --disabled-fill-color: #AAA;\n",
              "      --disabled-bg-color: #DDD;\n",
              "  }\n",
              "\n",
              "  [theme=dark] .colab-df-quickchart {\n",
              "      --bg-color: #3B4455;\n",
              "      --fill-color: #D2E3FC;\n",
              "      --hover-bg-color: #434B5C;\n",
              "      --hover-fill-color: #FFFFFF;\n",
              "      --disabled-bg-color: #3B4455;\n",
              "      --disabled-fill-color: #666;\n",
              "  }\n",
              "\n",
              "  .colab-df-quickchart {\n",
              "    background-color: var(--bg-color);\n",
              "    border: none;\n",
              "    border-radius: 50%;\n",
              "    cursor: pointer;\n",
              "    display: none;\n",
              "    fill: var(--fill-color);\n",
              "    height: 32px;\n",
              "    padding: 0;\n",
              "    width: 32px;\n",
              "  }\n",
              "\n",
              "  .colab-df-quickchart:hover {\n",
              "    background-color: var(--hover-bg-color);\n",
              "    box-shadow: 0 1px 2px rgba(60, 64, 67, 0.3), 0 1px 3px 1px rgba(60, 64, 67, 0.15);\n",
              "    fill: var(--button-hover-fill-color);\n",
              "  }\n",
              "\n",
              "  .colab-df-quickchart-complete:disabled,\n",
              "  .colab-df-quickchart-complete:disabled:hover {\n",
              "    background-color: var(--disabled-bg-color);\n",
              "    fill: var(--disabled-fill-color);\n",
              "    box-shadow: none;\n",
              "  }\n",
              "\n",
              "  .colab-df-spinner {\n",
              "    border: 2px solid var(--fill-color);\n",
              "    border-color: transparent;\n",
              "    border-bottom-color: var(--fill-color);\n",
              "    animation:\n",
              "      spin 1s steps(1) infinite;\n",
              "  }\n",
              "\n",
              "  @keyframes spin {\n",
              "    0% {\n",
              "      border-color: transparent;\n",
              "      border-bottom-color: var(--fill-color);\n",
              "      border-left-color: var(--fill-color);\n",
              "    }\n",
              "    20% {\n",
              "      border-color: transparent;\n",
              "      border-left-color: var(--fill-color);\n",
              "      border-top-color: var(--fill-color);\n",
              "    }\n",
              "    30% {\n",
              "      border-color: transparent;\n",
              "      border-left-color: var(--fill-color);\n",
              "      border-top-color: var(--fill-color);\n",
              "      border-right-color: var(--fill-color);\n",
              "    }\n",
              "    40% {\n",
              "      border-color: transparent;\n",
              "      border-right-color: var(--fill-color);\n",
              "      border-top-color: var(--fill-color);\n",
              "    }\n",
              "    60% {\n",
              "      border-color: transparent;\n",
              "      border-right-color: var(--fill-color);\n",
              "    }\n",
              "    80% {\n",
              "      border-color: transparent;\n",
              "      border-right-color: var(--fill-color);\n",
              "      border-bottom-color: var(--fill-color);\n",
              "    }\n",
              "    90% {\n",
              "      border-color: transparent;\n",
              "      border-bottom-color: var(--fill-color);\n",
              "    }\n",
              "  }\n",
              "</style>\n",
              "\n",
              "  <script>\n",
              "    async function quickchart(key) {\n",
              "      const quickchartButtonEl =\n",
              "        document.querySelector('#' + key + ' button');\n",
              "      quickchartButtonEl.disabled = true;  // To prevent multiple clicks.\n",
              "      quickchartButtonEl.classList.add('colab-df-spinner');\n",
              "      try {\n",
              "        const charts = await google.colab.kernel.invokeFunction(\n",
              "            'suggestCharts', [key], {});\n",
              "      } catch (error) {\n",
              "        console.error('Error during call to suggestCharts:', error);\n",
              "      }\n",
              "      quickchartButtonEl.classList.remove('colab-df-spinner');\n",
              "      quickchartButtonEl.classList.add('colab-df-quickchart-complete');\n",
              "    }\n",
              "    (() => {\n",
              "      let quickchartButtonEl =\n",
              "        document.querySelector('#df-efa41e7e-31be-46a1-ae0f-e8a2cbf9e0f3 button');\n",
              "      quickchartButtonEl.style.display =\n",
              "        google.colab.kernel.accessAllowed ? 'block' : 'none';\n",
              "    })();\n",
              "  </script>\n",
              "</div>\n",
              "\n",
              "    </div>\n",
              "  </div>\n"
            ],
            "application/vnd.google.colaboratory.intrinsic+json": {
              "type": "dataframe",
              "variable_name": "cards"
            }
          },
          "metadata": {},
          "execution_count": 723
        }
      ]
    },
    {
      "cell_type": "markdown",
      "source": [
        "making the CMC columns a float data type"
      ],
      "metadata": {
        "id": "abOyMQY3VIl0"
      }
    },
    {
      "cell_type": "code",
      "source": [
        "cards[[\"convertedManaCost\"]] = cards[[\"convertedManaCost\"]].astype(int)"
      ],
      "metadata": {
        "id": "SWYOyLXYOd9r"
      },
      "execution_count": 724,
      "outputs": []
    },
    {
      "cell_type": "code",
      "source": [
        "cards.info()"
      ],
      "metadata": {
        "colab": {
          "base_uri": "https://localhost:8080/"
        },
        "id": "uu0OiTEQPBV6",
        "outputId": "64e08920-ba1f-46c4-a5e6-47709ce177a5"
      },
      "execution_count": 725,
      "outputs": [
        {
          "output_type": "stream",
          "name": "stdout",
          "text": [
            "<class 'pandas.core.frame.DataFrame'>\n",
            "Index: 20478 entries, \"Ach! Hans, Run!\" to capital offense\n",
            "Data columns (total 34 columns):\n",
            " #   Column                 Non-Null Count  Dtype \n",
            "---  ------                 --------------  ----- \n",
            " 0   colorIdentity          20478 non-null  object\n",
            " 1   colors                 20478 non-null  object\n",
            " 2   convertedManaCost      20478 non-null  int64 \n",
            " 3   foreignData            20478 non-null  object\n",
            " 4   layout                 20478 non-null  object\n",
            " 5   legalities             20478 non-null  object\n",
            " 6   manaCost               19270 non-null  object\n",
            " 7   name                   20478 non-null  object\n",
            " 8   printings              20478 non-null  object\n",
            " 9   purchaseUrls           18423 non-null  object\n",
            " 10  rulings                20478 non-null  object\n",
            " 11  scryfallOracleId       20478 non-null  object\n",
            " 12  subtypes               20478 non-null  object\n",
            " 13  supertypes             20478 non-null  object\n",
            " 14  text                   20151 non-null  object\n",
            " 15  type                   20478 non-null  object\n",
            " 16  types                  20478 non-null  object\n",
            " 17  uuid                   20478 non-null  object\n",
            " 18  edhrecRank             19305 non-null  object\n",
            " 19  mtgoFoilId             12622 non-null  object\n",
            " 20  mtgoId                 14963 non-null  object\n",
            " 21  mtgArenaId             2682 non-null   object\n",
            " 22  power                  10747 non-null  object\n",
            " 23  toughness              10747 non-null  object\n",
            " 24  faceConvertedManaCost  447 non-null    object\n",
            " 25  names                  1476 non-null   object\n",
            " 26  side                   493 non-null    object\n",
            " 27  isReserved             571 non-null    object\n",
            " 28  leadershipSkills       1117 non-null   object\n",
            " 29  loyalty                204 non-null    object\n",
            " 30  hand                   107 non-null    object\n",
            " 31  life                   107 non-null    object\n",
            " 32  colorIndicator         98 non-null     object\n",
            " 33  hasNoDeckLimit         4 non-null      object\n",
            "dtypes: int64(1), object(33)\n",
            "memory usage: 6.0+ MB\n"
          ]
        }
      ]
    },
    {
      "cell_type": "markdown",
      "source": [
        "plotting a histogram of the different layout types within the dataset"
      ],
      "metadata": {
        "id": "oMCs2l9CVOd3"
      }
    },
    {
      "cell_type": "code",
      "source": [
        "plt.hist(cards['layout'])"
      ],
      "metadata": {
        "colab": {
          "base_uri": "https://localhost:8080/",
          "height": 499
        },
        "id": "SG1s2EUoEsCG",
        "outputId": "e01d94da-def0-4725-c2e1-f9a0c1f013c4"
      },
      "execution_count": 726,
      "outputs": [
        {
          "output_type": "execute_result",
          "data": {
            "text/plain": [
              "(array([1.9716e+04, 2.1200e+02, 8.6000e+01, 6.1000e+01, 1.0700e+02,\n",
              "        1.2600e+02, 1.0900e+02, 2.5000e+01, 9.0000e+00, 2.7000e+01]),\n",
              " array([ 0. ,  1.3,  2.6,  3.9,  5.2,  6.5,  7.8,  9.1, 10.4, 11.7, 13. ]),\n",
              " <BarContainer object of 10 artists>)"
            ]
          },
          "metadata": {},
          "execution_count": 726
        },
        {
          "output_type": "display_data",
          "data": {
            "text/plain": [
              "<Figure size 640x480 with 1 Axes>"
            ],
            "image/png": "[encoded data removed]"
          },
          "metadata": {}
        }
      ]
    },
    {
      "cell_type": "markdown",
      "source": [
        "dropping the following columns because they are either redunant or don't hold relevant card information"
      ],
      "metadata": {
        "id": "_nwxmO0vVYOZ"
      }
    },
    {
      "cell_type": "code",
      "source": [
        "toDrop = {'subtypes', 'manaCost', 'colors', 'hasNoDeckLimit', 'colorIndicator', 'life', 'hand', 'leadershipSkills', 'side', 'names', 'faceConvertedManaCost', 'mtgArenaId', 'mtgoId', 'mtgoFoilId', 'foreignData', 'legalities', 'name', 'printings', 'purchaseUrls', 'rulings', 'scryfallOracleId', 'text', 'type', 'types', 'uuid', 'edhrecRank'}\n",
        "cards = cards.drop(toDrop, axis=1)"
      ],
      "metadata": {
        "collapsed": true,
        "id": "xx632UBlQjN1"
      },
      "execution_count": 727,
      "outputs": []
    },
    {
      "cell_type": "code",
      "source": [
        "cards.info()"
      ],
      "metadata": {
        "colab": {
          "base_uri": "https://localhost:8080/"
        },
        "id": "O6lSXElhRfNF",
        "outputId": "419808cd-ba31-4f4d-ca3c-ae6a524ff577"
      },
      "execution_count": 728,
      "outputs": [
        {
          "output_type": "stream",
          "name": "stdout",
          "text": [
            "<class 'pandas.core.frame.DataFrame'>\n",
            "Index: 20478 entries, \"Ach! Hans, Run!\" to capital offense\n",
            "Data columns (total 8 columns):\n",
            " #   Column             Non-Null Count  Dtype \n",
            "---  ------             --------------  ----- \n",
            " 0   colorIdentity      20478 non-null  object\n",
            " 1   convertedManaCost  20478 non-null  int64 \n",
            " 2   layout             20478 non-null  object\n",
            " 3   supertypes         20478 non-null  object\n",
            " 4   power              10747 non-null  object\n",
            " 5   toughness          10747 non-null  object\n",
            " 6   isReserved         571 non-null    object\n",
            " 7   loyalty            204 non-null    object\n",
            "dtypes: int64(1), object(7)\n",
            "memory usage: 1.9+ MB\n"
          ]
        }
      ]
    },
    {
      "cell_type": "markdown",
      "source": [
        "removing null values from the remaining columns"
      ],
      "metadata": {
        "id": "FjMtyFcSVjzc"
      }
    },
    {
      "cell_type": "code",
      "source": [
        "cards['power'].fillna(0, inplace=True)"
      ],
      "metadata": {
        "colab": {
          "base_uri": "https://localhost:8080/"
        },
        "id": "Q-_Njak7YdhG",
        "outputId": "9375e3bf-6a0c-4e4b-9e82-04a43c0d20ed"
      },
      "execution_count": 729,
      "outputs": [
        {
          "output_type": "stream",
          "name": "stderr",
          "text": [
            "<ipython-input-729-ff2d4aa74c39>:1: FutureWarning: A value is trying to be set on a copy of a DataFrame or Series through chained assignment using an inplace method.\n",
            "The behavior will change in pandas 3.0. This inplace method will never work because the intermediate object on which we are setting values always behaves as a copy.\n",
            "\n",
            "For example, when doing 'df[col].method(value, inplace=True)', try using 'df.method({col: value}, inplace=True)' or df[col] = df[col].method(value) instead, to perform the operation inplace on the original object.\n",
            "\n",
            "\n",
            "  cards['power'].fillna(0, inplace=True)\n"
          ]
        }
      ]
    },
    {
      "cell_type": "code",
      "source": [
        "cards['toughness'].fillna(0, inplace=True)"
      ],
      "metadata": {
        "colab": {
          "base_uri": "https://localhost:8080/"
        },
        "id": "oXvrUcxkVwly",
        "outputId": "7198cf72-800e-4254-d6a4-624c71da2acf"
      },
      "execution_count": 730,
      "outputs": [
        {
          "output_type": "stream",
          "name": "stderr",
          "text": [
            "<ipython-input-730-87d019a34789>:1: FutureWarning: A value is trying to be set on a copy of a DataFrame or Series through chained assignment using an inplace method.\n",
            "The behavior will change in pandas 3.0. This inplace method will never work because the intermediate object on which we are setting values always behaves as a copy.\n",
            "\n",
            "For example, when doing 'df[col].method(value, inplace=True)', try using 'df.method({col: value}, inplace=True)' or df[col] = df[col].method(value) instead, to perform the operation inplace on the original object.\n",
            "\n",
            "\n",
            "  cards['toughness'].fillna(0, inplace=True)\n"
          ]
        }
      ]
    },
    {
      "cell_type": "code",
      "source": [
        "cards['toughness'].value_counts()"
      ],
      "metadata": {
        "colab": {
          "base_uri": "https://localhost:8080/",
          "height": 1000
        },
        "id": "rQVI5I_MtpyV",
        "outputId": "093403d6-f4ee-4bee-9d8b-f51761946e49"
      },
      "execution_count": 731,
      "outputs": [
        {
          "output_type": "execute_result",
          "data": {
            "text/plain": [
              "toughness\n",
              "0      9731\n",
              "2      2783\n",
              "1      2558\n",
              "3      2152\n",
              "4      1458\n",
              "5       769\n",
              "6       399\n",
              "0       172\n",
              "7       160\n",
              "*       115\n",
              "8        71\n",
              "9        27\n",
              "10       22\n",
              "11        8\n",
              "1+*       7\n",
              "12        7\n",
              "13        7\n",
              "+3        3\n",
              "+2        3\n",
              "+4        3\n",
              "3.5       3\n",
              "15        2\n",
              "+1        2\n",
              "?         2\n",
              "2+*       2\n",
              "7-*       1\n",
              "-1        1\n",
              "*²        1\n",
              "+0        1\n",
              "99        1\n",
              ".5        1\n",
              "16        1\n",
              "-0        1\n",
              "1.5       1\n",
              "*+1       1\n",
              "14        1\n",
              "2.5       1\n",
              "Name: count, dtype: int64"
            ],
            "text/html": [
              "<div>\n",
              "<style scoped>\n",
              "    .dataframe tbody tr th:only-of-type {\n",
              "        vertical-align: middle;\n",
              "    }\n",
              "\n",
              "    .dataframe tbody tr th {\n",
              "        vertical-align: top;\n",
              "    }\n",
              "\n",
              "    .dataframe thead th {\n",
              "        text-align: right;\n",
              "    }\n",
              "</style>\n",
              "<table border=\"1\" class=\"dataframe\">\n",
              "  <thead>\n",
              "    <tr style=\"text-align: right;\">\n",
              "      <th></th>\n",
              "      <th>count</th>\n",
              "    </tr>\n",
              "    <tr>\n",
              "      <th>toughness</th>\n",
              "      <th></th>\n",
              "    </tr>\n",
              "  </thead>\n",
              "  <tbody>\n",
              "    <tr>\n",
              "      <th>0</th>\n",
              "      <td>9731</td>\n",
              "    </tr>\n",
              "    <tr>\n",
              "      <th>2</th>\n",
              "      <td>2783</td>\n",
              "    </tr>\n",
              "    <tr>\n",
              "      <th>1</th>\n",
              "      <td>2558</td>\n",
              "    </tr>\n",
              "    <tr>\n",
              "      <th>3</th>\n",
              "      <td>2152</td>\n",
              "    </tr>\n",
              "    <tr>\n",
              "      <th>4</th>\n",
              "      <td>1458</td>\n",
              "    </tr>\n",
              "    <tr>\n",
              "      <th>5</th>\n",
              "      <td>769</td>\n",
              "    </tr>\n",
              "    <tr>\n",
              "      <th>6</th>\n",
              "      <td>399</td>\n",
              "    </tr>\n",
              "    <tr>\n",
              "      <th>0</th>\n",
              "      <td>172</td>\n",
              "    </tr>\n",
              "    <tr>\n",
              "      <th>7</th>\n",
              "      <td>160</td>\n",
              "    </tr>\n",
              "    <tr>\n",
              "      <th>*</th>\n",
              "      <td>115</td>\n",
              "    </tr>\n",
              "    <tr>\n",
              "      <th>8</th>\n",
              "      <td>71</td>\n",
              "    </tr>\n",
              "    <tr>\n",
              "      <th>9</th>\n",
              "      <td>27</td>\n",
              "    </tr>\n",
              "    <tr>\n",
              "      <th>10</th>\n",
              "      <td>22</td>\n",
              "    </tr>\n",
              "    <tr>\n",
              "      <th>11</th>\n",
              "      <td>8</td>\n",
              "    </tr>\n",
              "    <tr>\n",
              "      <th>1+*</th>\n",
              "      <td>7</td>\n",
              "    </tr>\n",
              "    <tr>\n",
              "      <th>12</th>\n",
              "      <td>7</td>\n",
              "    </tr>\n",
              "    <tr>\n",
              "      <th>13</th>\n",
              "      <td>7</td>\n",
              "    </tr>\n",
              "    <tr>\n",
              "      <th>+3</th>\n",
              "      <td>3</td>\n",
              "    </tr>\n",
              "    <tr>\n",
              "      <th>+2</th>\n",
              "      <td>3</td>\n",
              "    </tr>\n",
              "    <tr>\n",
              "      <th>+4</th>\n",
              "      <td>3</td>\n",
              "    </tr>\n",
              "    <tr>\n",
              "      <th>3.5</th>\n",
              "      <td>3</td>\n",
              "    </tr>\n",
              "    <tr>\n",
              "      <th>15</th>\n",
              "      <td>2</td>\n",
              "    </tr>\n",
              "    <tr>\n",
              "      <th>+1</th>\n",
              "      <td>2</td>\n",
              "    </tr>\n",
              "    <tr>\n",
              "      <th>?</th>\n",
              "      <td>2</td>\n",
              "    </tr>\n",
              "    <tr>\n",
              "      <th>2+*</th>\n",
              "      <td>2</td>\n",
              "    </tr>\n",
              "    <tr>\n",
              "      <th>7-*</th>\n",
              "      <td>1</td>\n",
              "    </tr>\n",
              "    <tr>\n",
              "      <th>-1</th>\n",
              "      <td>1</td>\n",
              "    </tr>\n",
              "    <tr>\n",
              "      <th>*²</th>\n",
              "      <td>1</td>\n",
              "    </tr>\n",
              "    <tr>\n",
              "      <th>+0</th>\n",
              "      <td>1</td>\n",
              "    </tr>\n",
              "    <tr>\n",
              "      <th>99</th>\n",
              "      <td>1</td>\n",
              "    </tr>\n",
              "    <tr>\n",
              "      <th>.5</th>\n",
              "      <td>1</td>\n",
              "    </tr>\n",
              "    <tr>\n",
              "      <th>16</th>\n",
              "      <td>1</td>\n",
              "    </tr>\n",
              "    <tr>\n",
              "      <th>-0</th>\n",
              "      <td>1</td>\n",
              "    </tr>\n",
              "    <tr>\n",
              "      <th>1.5</th>\n",
              "      <td>1</td>\n",
              "    </tr>\n",
              "    <tr>\n",
              "      <th>*+1</th>\n",
              "      <td>1</td>\n",
              "    </tr>\n",
              "    <tr>\n",
              "      <th>14</th>\n",
              "      <td>1</td>\n",
              "    </tr>\n",
              "    <tr>\n",
              "      <th>2.5</th>\n",
              "      <td>1</td>\n",
              "    </tr>\n",
              "  </tbody>\n",
              "</table>\n",
              "</div><br><label><b>dtype:</b> int64</label>"
            ]
          },
          "metadata": {},
          "execution_count": 731
        }
      ]
    },
    {
      "cell_type": "code",
      "source": [
        "cards['power'] = cards['power'].replace('*', -1)"
      ],
      "metadata": {
        "id": "9rLZJq3NYwJG"
      },
      "execution_count": 732,
      "outputs": []
    },
    {
      "cell_type": "code",
      "source": [
        "cards['toughness'] = cards['toughness'].replace('*', -1)"
      ],
      "metadata": {
        "id": "MKfhNQJOZeaZ"
      },
      "execution_count": 733,
      "outputs": []
    },
    {
      "cell_type": "code",
      "source": [
        "cards = cards[pd.to_numeric(cards['power'], errors='coerce').notnull()]"
      ],
      "metadata": {
        "id": "-xmNtowqaMzv"
      },
      "execution_count": 734,
      "outputs": []
    },
    {
      "cell_type": "code",
      "source": [
        "cards = cards[pd.to_numeric(cards['toughness'], errors='coerce').notnull()]"
      ],
      "metadata": {
        "id": "7Wb58M6daTeC"
      },
      "execution_count": 735,
      "outputs": []
    },
    {
      "cell_type": "code",
      "source": [
        "cards['power'] = cards['power'].astype(float)\n",
        "cards['power'] = np.floor(cards['power'])\n",
        "cards['power'] = cards['power'].astype(int)"
      ],
      "metadata": {
        "id": "LjBvSikra9gV"
      },
      "execution_count": 736,
      "outputs": []
    },
    {
      "cell_type": "code",
      "source": [
        "cards['toughness'] = cards['toughness'].astype(float)\n",
        "cards['toughness'] = np.floor(cards['toughness'])\n",
        "cards['toughness'] = cards['toughness'].astype(int)"
      ],
      "metadata": {
        "id": "c51Bw-6dbq0P"
      },
      "execution_count": 737,
      "outputs": []
    },
    {
      "cell_type": "code",
      "source": [
        "cards['isReserved'].value_counts()"
      ],
      "metadata": {
        "colab": {
          "base_uri": "https://localhost:8080/",
          "height": 147
        },
        "id": "_MJjq7MzuHik",
        "outputId": "2da783bc-f3fb-4b83-9cd3-2e6dcb966a9e"
      },
      "execution_count": 738,
      "outputs": [
        {
          "output_type": "execute_result",
          "data": {
            "text/plain": [
              "isReserved\n",
              "True    568\n",
              "Name: count, dtype: int64"
            ],
            "text/html": [
              "<div>\n",
              "<style scoped>\n",
              "    .dataframe tbody tr th:only-of-type {\n",
              "        vertical-align: middle;\n",
              "    }\n",
              "\n",
              "    .dataframe tbody tr th {\n",
              "        vertical-align: top;\n",
              "    }\n",
              "\n",
              "    .dataframe thead th {\n",
              "        text-align: right;\n",
              "    }\n",
              "</style>\n",
              "<table border=\"1\" class=\"dataframe\">\n",
              "  <thead>\n",
              "    <tr style=\"text-align: right;\">\n",
              "      <th></th>\n",
              "      <th>count</th>\n",
              "    </tr>\n",
              "    <tr>\n",
              "      <th>isReserved</th>\n",
              "      <th></th>\n",
              "    </tr>\n",
              "  </thead>\n",
              "  <tbody>\n",
              "    <tr>\n",
              "      <th>True</th>\n",
              "      <td>568</td>\n",
              "    </tr>\n",
              "  </tbody>\n",
              "</table>\n",
              "</div><br><label><b>dtype:</b> int64</label>"
            ]
          },
          "metadata": {},
          "execution_count": 738
        }
      ]
    },
    {
      "cell_type": "code",
      "source": [
        "cards['isReserved'].fillna(0, inplace=True)"
      ],
      "metadata": {
        "colab": {
          "base_uri": "https://localhost:8080/"
        },
        "id": "xdx-PM_0bw9P",
        "outputId": "dc7b7f99-b111-4029-ef59-155db3cc548c"
      },
      "execution_count": 739,
      "outputs": [
        {
          "output_type": "stream",
          "name": "stderr",
          "text": [
            "<ipython-input-739-857656c9fd4d>:1: FutureWarning: A value is trying to be set on a copy of a DataFrame or Series through chained assignment using an inplace method.\n",
            "The behavior will change in pandas 3.0. This inplace method will never work because the intermediate object on which we are setting values always behaves as a copy.\n",
            "\n",
            "For example, when doing 'df[col].method(value, inplace=True)', try using 'df.method({col: value}, inplace=True)' or df[col] = df[col].method(value) instead, to perform the operation inplace on the original object.\n",
            "\n",
            "\n",
            "  cards['isReserved'].fillna(0, inplace=True)\n"
          ]
        }
      ]
    },
    {
      "cell_type": "code",
      "source": [
        "cards['isReserved'].value_counts()"
      ],
      "metadata": {
        "colab": {
          "base_uri": "https://localhost:8080/",
          "height": 178
        },
        "id": "SCQm4WBQtzrM",
        "outputId": "8dbb05a5-0332-4f68-bab1-321981f71c21"
      },
      "execution_count": 740,
      "outputs": [
        {
          "output_type": "execute_result",
          "data": {
            "text/plain": [
              "isReserved\n",
              "0       19894\n",
              "True      568\n",
              "Name: count, dtype: int64"
            ],
            "text/html": [
              "<div>\n",
              "<style scoped>\n",
              "    .dataframe tbody tr th:only-of-type {\n",
              "        vertical-align: middle;\n",
              "    }\n",
              "\n",
              "    .dataframe tbody tr th {\n",
              "        vertical-align: top;\n",
              "    }\n",
              "\n",
              "    .dataframe thead th {\n",
              "        text-align: right;\n",
              "    }\n",
              "</style>\n",
              "<table border=\"1\" class=\"dataframe\">\n",
              "  <thead>\n",
              "    <tr style=\"text-align: right;\">\n",
              "      <th></th>\n",
              "      <th>count</th>\n",
              "    </tr>\n",
              "    <tr>\n",
              "      <th>isReserved</th>\n",
              "      <th></th>\n",
              "    </tr>\n",
              "  </thead>\n",
              "  <tbody>\n",
              "    <tr>\n",
              "      <th>0</th>\n",
              "      <td>19894</td>\n",
              "    </tr>\n",
              "    <tr>\n",
              "      <th>True</th>\n",
              "      <td>568</td>\n",
              "    </tr>\n",
              "  </tbody>\n",
              "</table>\n",
              "</div><br><label><b>dtype:</b> int64</label>"
            ]
          },
          "metadata": {},
          "execution_count": 740
        }
      ]
    },
    {
      "cell_type": "code",
      "source": [
        "cards['isReserved'] = cards['isReserved'].replace(True, 1)"
      ],
      "metadata": {
        "colab": {
          "base_uri": "https://localhost:8080/"
        },
        "id": "yTjvb0_Zer9F",
        "outputId": "5047c7b9-f1ff-4b8d-96f0-91defca4ec27"
      },
      "execution_count": 741,
      "outputs": [
        {
          "output_type": "stream",
          "name": "stderr",
          "text": [
            "<ipython-input-741-f62befe10e3f>:1: FutureWarning: Downcasting behavior in `replace` is deprecated and will be removed in a future version. To retain the old behavior, explicitly call `result.infer_objects(copy=False)`. To opt-in to the future behavior, set `pd.set_option('future.no_silent_downcasting', True)`\n",
            "  cards['isReserved'] = cards['isReserved'].replace(True, 1)\n"
          ]
        }
      ]
    },
    {
      "cell_type": "code",
      "source": [
        "cards['isReserved'].value_counts()"
      ],
      "metadata": {
        "colab": {
          "base_uri": "https://localhost:8080/",
          "height": 178
        },
        "id": "JTXbcZ-Xt-sB",
        "outputId": "4714dbc2-637f-45f1-cea6-2876e8ebae8b"
      },
      "execution_count": 742,
      "outputs": [
        {
          "output_type": "execute_result",
          "data": {
            "text/plain": [
              "isReserved\n",
              "0    19894\n",
              "1      568\n",
              "Name: count, dtype: int64"
            ],
            "text/html": [
              "<div>\n",
              "<style scoped>\n",
              "    .dataframe tbody tr th:only-of-type {\n",
              "        vertical-align: middle;\n",
              "    }\n",
              "\n",
              "    .dataframe tbody tr th {\n",
              "        vertical-align: top;\n",
              "    }\n",
              "\n",
              "    .dataframe thead th {\n",
              "        text-align: right;\n",
              "    }\n",
              "</style>\n",
              "<table border=\"1\" class=\"dataframe\">\n",
              "  <thead>\n",
              "    <tr style=\"text-align: right;\">\n",
              "      <th></th>\n",
              "      <th>count</th>\n",
              "    </tr>\n",
              "    <tr>\n",
              "      <th>isReserved</th>\n",
              "      <th></th>\n",
              "    </tr>\n",
              "  </thead>\n",
              "  <tbody>\n",
              "    <tr>\n",
              "      <th>0</th>\n",
              "      <td>19894</td>\n",
              "    </tr>\n",
              "    <tr>\n",
              "      <th>1</th>\n",
              "      <td>568</td>\n",
              "    </tr>\n",
              "  </tbody>\n",
              "</table>\n",
              "</div><br><label><b>dtype:</b> int64</label>"
            ]
          },
          "metadata": {},
          "execution_count": 742
        }
      ]
    },
    {
      "cell_type": "code",
      "source": [
        "cards['loyalty'].value_counts()"
      ],
      "metadata": {
        "colab": {
          "base_uri": "https://localhost:8080/",
          "height": 429
        },
        "id": "8HrnGccOfJQi",
        "outputId": "375dc86a-fa84-46d0-f04f-b33879cdff3a"
      },
      "execution_count": 743,
      "outputs": [
        {
          "output_type": "execute_result",
          "data": {
            "text/plain": [
              "loyalty\n",
              "5        66\n",
              "4        66\n",
              "3        47\n",
              "6         9\n",
              "7         8\n",
              "2         4\n",
              "1d4+1     1\n",
              "20        1\n",
              "X         1\n",
              "*         1\n",
              "Name: count, dtype: int64"
            ],
            "text/html": [
              "<div>\n",
              "<style scoped>\n",
              "    .dataframe tbody tr th:only-of-type {\n",
              "        vertical-align: middle;\n",
              "    }\n",
              "\n",
              "    .dataframe tbody tr th {\n",
              "        vertical-align: top;\n",
              "    }\n",
              "\n",
              "    .dataframe thead th {\n",
              "        text-align: right;\n",
              "    }\n",
              "</style>\n",
              "<table border=\"1\" class=\"dataframe\">\n",
              "  <thead>\n",
              "    <tr style=\"text-align: right;\">\n",
              "      <th></th>\n",
              "      <th>count</th>\n",
              "    </tr>\n",
              "    <tr>\n",
              "      <th>loyalty</th>\n",
              "      <th></th>\n",
              "    </tr>\n",
              "  </thead>\n",
              "  <tbody>\n",
              "    <tr>\n",
              "      <th>5</th>\n",
              "      <td>66</td>\n",
              "    </tr>\n",
              "    <tr>\n",
              "      <th>4</th>\n",
              "      <td>66</td>\n",
              "    </tr>\n",
              "    <tr>\n",
              "      <th>3</th>\n",
              "      <td>47</td>\n",
              "    </tr>\n",
              "    <tr>\n",
              "      <th>6</th>\n",
              "      <td>9</td>\n",
              "    </tr>\n",
              "    <tr>\n",
              "      <th>7</th>\n",
              "      <td>8</td>\n",
              "    </tr>\n",
              "    <tr>\n",
              "      <th>2</th>\n",
              "      <td>4</td>\n",
              "    </tr>\n",
              "    <tr>\n",
              "      <th>1d4+1</th>\n",
              "      <td>1</td>\n",
              "    </tr>\n",
              "    <tr>\n",
              "      <th>20</th>\n",
              "      <td>1</td>\n",
              "    </tr>\n",
              "    <tr>\n",
              "      <th>X</th>\n",
              "      <td>1</td>\n",
              "    </tr>\n",
              "    <tr>\n",
              "      <th>*</th>\n",
              "      <td>1</td>\n",
              "    </tr>\n",
              "  </tbody>\n",
              "</table>\n",
              "</div><br><label><b>dtype:</b> int64</label>"
            ]
          },
          "metadata": {},
          "execution_count": 743
        }
      ]
    },
    {
      "cell_type": "code",
      "source": [
        "cards['loyalty'] = cards['loyalty'].replace('*', -1)\n",
        "cards['loyalty'] = cards['loyalty'].replace('X', -1)\n",
        "cards['loyalty'] = cards['loyalty'].replace('1d4+1', 5)"
      ],
      "metadata": {
        "id": "xwNr0asHcuSi"
      },
      "execution_count": 744,
      "outputs": []
    },
    {
      "cell_type": "code",
      "source": [
        "cards['loyalty'].fillna(0, inplace=True)"
      ],
      "metadata": {
        "colab": {
          "base_uri": "https://localhost:8080/"
        },
        "id": "4grfYBOFdDJH",
        "outputId": "6f45e25d-ace3-46d0-e4dc-5bd38b45413f"
      },
      "execution_count": 745,
      "outputs": [
        {
          "output_type": "stream",
          "name": "stderr",
          "text": [
            "<ipython-input-745-c1184a0650a9>:1: FutureWarning: A value is trying to be set on a copy of a DataFrame or Series through chained assignment using an inplace method.\n",
            "The behavior will change in pandas 3.0. This inplace method will never work because the intermediate object on which we are setting values always behaves as a copy.\n",
            "\n",
            "For example, when doing 'df[col].method(value, inplace=True)', try using 'df.method({col: value}, inplace=True)' or df[col] = df[col].method(value) instead, to perform the operation inplace on the original object.\n",
            "\n",
            "\n",
            "  cards['loyalty'].fillna(0, inplace=True)\n"
          ]
        }
      ]
    },
    {
      "cell_type": "code",
      "source": [
        "cards['loyalty'] = cards['loyalty'].astype(float)\n",
        "cards['loyalty'] = np.floor(cards['loyalty'])\n",
        "cards['loyalty'] = cards['loyalty'].astype(int)"
      ],
      "metadata": {
        "id": "Xq-5dYCYdOGi"
      },
      "execution_count": 746,
      "outputs": []
    },
    {
      "cell_type": "code",
      "source": [
        "cards.info()"
      ],
      "metadata": {
        "colab": {
          "base_uri": "https://localhost:8080/"
        },
        "id": "Q2EdAEc4an0K",
        "outputId": "35ed9c07-432f-409f-8267-c7d714a7d095"
      },
      "execution_count": 747,
      "outputs": [
        {
          "output_type": "stream",
          "name": "stdout",
          "text": [
            "<class 'pandas.core.frame.DataFrame'>\n",
            "Index: 20462 entries, \"Ach! Hans, Run!\" to capital offense\n",
            "Data columns (total 8 columns):\n",
            " #   Column             Non-Null Count  Dtype \n",
            "---  ------             --------------  ----- \n",
            " 0   colorIdentity      20462 non-null  object\n",
            " 1   convertedManaCost  20462 non-null  int64 \n",
            " 2   layout             20462 non-null  object\n",
            " 3   supertypes         20462 non-null  object\n",
            " 4   power              20462 non-null  int64 \n",
            " 5   toughness          20462 non-null  int64 \n",
            " 6   isReserved         20462 non-null  int64 \n",
            " 7   loyalty            20462 non-null  int64 \n",
            "dtypes: int64(5), object(3)\n",
            "memory usage: 1.4+ MB\n"
          ]
        }
      ]
    },
    {
      "cell_type": "code",
      "source": [
        "cards['colorIdentity'] = cards['colorIdentity'].apply(lambda x: ', '.join(x))"
      ],
      "metadata": {
        "id": "gILzBwfLoXlU"
      },
      "execution_count": 748,
      "outputs": []
    },
    {
      "cell_type": "code",
      "source": [
        "cards['colorIdentity'] = cards['colorIdentity'].replace('', 'C')"
      ],
      "metadata": {
        "id": "3QzVxhlupMI0"
      },
      "execution_count": 749,
      "outputs": []
    },
    {
      "cell_type": "code",
      "source": [
        "from sklearn.preprocessing import LabelEncoder\n",
        "from sklearn.preprocessing import OneHotEncoder"
      ],
      "metadata": {
        "id": "t_aXRCIgmEfm"
      },
      "execution_count": 750,
      "outputs": []
    },
    {
      "cell_type": "code",
      "source": [
        "encoder = LabelEncoder()\n",
        "encoder.fit(cards['colorIdentity'])\n",
        "cards['colorIdentity'] = encoder.transform(cards['colorIdentity'])"
      ],
      "metadata": {
        "id": "ENEl8OsansfJ"
      },
      "execution_count": 751,
      "outputs": []
    },
    {
      "cell_type": "code",
      "source": [
        "encoder = LabelEncoder()\n",
        "encoder.fit(cards['layout'])\n",
        "cards['layout'] = encoder.transform(cards['layout'])"
      ],
      "metadata": {
        "id": "KAn8Vnytpeh_"
      },
      "execution_count": 752,
      "outputs": []
    },
    {
      "cell_type": "code",
      "source": [
        "cards['supertypes'] = cards['supertypes'].apply(lambda x: ', '.join(x))"
      ],
      "metadata": {
        "id": "TNFo6Mw0q2cg"
      },
      "execution_count": 753,
      "outputs": []
    },
    {
      "cell_type": "code",
      "source": [
        "cards['colorIdentity'] = cards['colorIdentity'].replace('', 'Typeless')"
      ],
      "metadata": {
        "id": "KGoQIEEcrCqW"
      },
      "execution_count": 754,
      "outputs": []
    },
    {
      "cell_type": "code",
      "source": [
        "encoder = LabelEncoder()\n",
        "encoder.fit(cards['supertypes'])\n",
        "cards['supertypes'] = encoder.transform(cards['supertypes'])"
      ],
      "metadata": {
        "id": "iSzz7hfAq8Ve"
      },
      "execution_count": 755,
      "outputs": []
    },
    {
      "cell_type": "code",
      "source": [
        "cards.info()"
      ],
      "metadata": {
        "colab": {
          "base_uri": "https://localhost:8080/"
        },
        "id": "xaEOmkP4pcL6",
        "outputId": "cef61b51-eab0-43da-fc90-d6ac9f63635b"
      },
      "execution_count": 756,
      "outputs": [
        {
          "output_type": "stream",
          "name": "stdout",
          "text": [
            "<class 'pandas.core.frame.DataFrame'>\n",
            "Index: 20462 entries, \"Ach! Hans, Run!\" to capital offense\n",
            "Data columns (total 8 columns):\n",
            " #   Column             Non-Null Count  Dtype\n",
            "---  ------             --------------  -----\n",
            " 0   colorIdentity      20462 non-null  int64\n",
            " 1   convertedManaCost  20462 non-null  int64\n",
            " 2   layout             20462 non-null  int64\n",
            " 3   supertypes         20462 non-null  int64\n",
            " 4   power              20462 non-null  int64\n",
            " 5   toughness          20462 non-null  int64\n",
            " 6   isReserved         20462 non-null  int64\n",
            " 7   loyalty            20462 non-null  int64\n",
            "dtypes: int64(8)\n",
            "memory usage: 1.9+ MB\n"
          ]
        }
      ]
    },
    {
      "cell_type": "markdown",
      "source": [
        "Last step normalizing the data so that Classification Naive Bayes and so that all models are trained on the same data."
      ],
      "metadata": {
        "id": "YcBS9DPW4YxR"
      }
    },
    {
      "cell_type": "code",
      "source": [
        "X= cards.drop('isReserved', axis=1)\n",
        "y= cards['isReserved']"
      ],
      "metadata": {
        "id": "qdoO6DUY4X3m"
      },
      "execution_count": 757,
      "outputs": []
    },
    {
      "cell_type": "code",
      "source": [
        "from sklearn.preprocessing import normalize\n",
        "\n",
        "X = normalize(X)"
      ],
      "metadata": {
        "id": "RWC2pYzI48eW"
      },
      "execution_count": 758,
      "outputs": []
    },
    {
      "cell_type": "markdown",
      "source": [
        "# KNN Classifier\n",
        "guessing which cards are on the reserved list"
      ],
      "metadata": {
        "id": "MKv7ZtDqjo3k"
      }
    },
    {
      "cell_type": "code",
      "source": [
        "from sklearn.model_selection import train_test_split\n",
        "\n",
        "Xtrn, Xtst, ytrn, ytst = train_test_split(X, y, test_size=0.2, random_state=42)"
      ],
      "metadata": {
        "id": "MTvh1NuEj7QE"
      },
      "execution_count": 759,
      "outputs": []
    },
    {
      "cell_type": "code",
      "source": [
        "from sklearn.neighbors import KNeighborsClassifier\n",
        "from sklearn.metrics import accuracy_score\n",
        "max = 0\n",
        "neighbors = 0\n",
        "for i in range(1,15):\n",
        "  model = KNeighborsClassifier(n_neighbors=i, metric='euclidean')\n",
        "  model.fit(Xtrn, ytrn)\n",
        "\n",
        "  yprd = model.predict(Xtst)\n",
        "  accuracy = accuracy_score(ytst, yprd)\n",
        "\n",
        "  if accuracy > max:\n",
        "    max = accuracy\n",
        "    neighbors = i\n",
        "\n",
        "print(\"neighbors: \" + str(neighbors))\n",
        "print(\"best accuracy: \" + str(max))"
      ],
      "metadata": {
        "colab": {
          "base_uri": "https://localhost:8080/"
        },
        "id": "H1csPjVhlZnM",
        "outputId": "f3c5cd12-4de7-4028-e31f-b86db7d85ee7"
      },
      "execution_count": 760,
      "outputs": [
        {
          "output_type": "stream",
          "name": "stdout",
          "text": [
            "neighbors: 2\n",
            "best accuracy: 0.9701930124602981\n"
          ]
        }
      ]
    },
    {
      "cell_type": "code",
      "source": [
        "from sklearn.metrics import confusion_matrix\n",
        "cm = confusion_matrix(ytst, yprd)\n",
        "\n",
        "import seaborn as sns\n",
        "sns.heatmap(cm, square=True, annot=True, fmt='d', cbar=True,\n",
        "                    cmap=\"Spectral\",\n",
        "                    xticklabels=model.classes_,\n",
        "                    yticklabels=model.classes_)"
      ],
      "metadata": {
        "colab": {
          "base_uri": "https://localhost:8080/",
          "height": 447
        },
        "id": "4V7dlomUAgln",
        "outputId": "9745e0ff-fe1d-4fac-bf5a-d04cb6dd8532"
      },
      "execution_count": 761,
      "outputs": [
        {
          "output_type": "execute_result",
          "data": {
            "text/plain": [
              "<Axes: >"
            ]
          },
          "metadata": {},
          "execution_count": 761
        },
        {
          "output_type": "display_data",
          "data": {
            "text/plain": [
              "<Figure size 640x480 with 2 Axes>"
            ],
            "image/png": "[encoded data removed]"
          },
          "metadata": {}
        }
      ]
    },
    {
      "cell_type": "code",
      "source": [
        "from sklearn.neighbors import KNeighborsClassifier\n",
        "from sklearn.metrics import accuracy_score\n",
        "max = 0\n",
        "neighbors = 0\n",
        "for i in range(1,15):\n",
        "  model = KNeighborsClassifier(n_neighbors=i, metric='manhattan')\n",
        "  model.fit(Xtrn, ytrn)\n",
        "\n",
        "  yprd = model.predict(Xtst)\n",
        "  accuracy = accuracy_score(ytst, yprd)\n",
        "\n",
        "  if accuracy > max:\n",
        "    max = accuracy\n",
        "    neighbors = i\n",
        "\n",
        "print(\"neighbors: \" + str(neighbors))\n",
        "print(\"best accuracy: \" + str(max))"
      ],
      "metadata": {
        "colab": {
          "base_uri": "https://localhost:8080/"
        },
        "id": "Csqq6uM3vmSQ",
        "outputId": "2789bae0-a3aa-49fd-9d83-306cd9091955"
      },
      "execution_count": 762,
      "outputs": [
        {
          "output_type": "stream",
          "name": "stdout",
          "text": [
            "neighbors: 4\n",
            "best accuracy: 0.9701930124602981\n"
          ]
        }
      ]
    },
    {
      "cell_type": "code",
      "source": [
        "from sklearn.metrics import confusion_matrix\n",
        "cm = confusion_matrix(ytst, yprd)\n",
        "\n",
        "import seaborn as sns\n",
        "sns.heatmap(cm, square=True, annot=True, fmt='d', cbar=True,\n",
        "                    cmap=\"Spectral\",\n",
        "                    xticklabels=model.classes_,\n",
        "                    yticklabels=model.classes_)"
      ],
      "metadata": {
        "colab": {
          "base_uri": "https://localhost:8080/",
          "height": 447
        },
        "id": "ijDntBfGAe0g",
        "outputId": "0f9f637a-7915-4448-f5ef-455f8159b8d8"
      },
      "execution_count": 763,
      "outputs": [
        {
          "output_type": "execute_result",
          "data": {
            "text/plain": [
              "<Axes: >"
            ]
          },
          "metadata": {},
          "execution_count": 763
        },
        {
          "output_type": "display_data",
          "data": {
            "text/plain": [
              "<Figure size 640x480 with 2 Axes>"
            ],
            "image/png": "[encoded data removed]"
          },
          "metadata": {}
        }
      ]
    },
    {
      "cell_type": "markdown",
      "source": [
        "# Naive Bayes\n",
        "Guessing if a card is on the reserved list"
      ],
      "metadata": {
        "id": "ppwaIn3Vw6ZQ"
      }
    },
    {
      "cell_type": "code",
      "source": [
        "from sklearn.naive_bayes import ComplementNB\n",
        "from sklearn.metrics import accuracy_score\n",
        "\n",
        "# 1 needs to be addded to remove negative values\n",
        "cXtrn = Xtrn + 1\n",
        "cXtst = Xtst + 1\n",
        "\n",
        "model = ComplementNB()\n",
        "model.fit(cXtrn, ytrn)\n",
        "\n",
        "yprd = model.predict(cXtst)\n",
        "accuracy = accuracy_score(ytst, yprd)\n",
        "\n",
        "print(\"accuracy: \" + str(accuracy))"
      ],
      "metadata": {
        "colab": {
          "base_uri": "https://localhost:8080/"
        },
        "id": "0nb9QRSZumfZ",
        "outputId": "d243beff-7b80-48ad-d8d2-a0b4c203140f"
      },
      "execution_count": 764,
      "outputs": [
        {
          "output_type": "stream",
          "name": "stdout",
          "text": [
            "accuracy: 0.38602492059613974\n"
          ]
        }
      ]
    },
    {
      "cell_type": "code",
      "source": [
        "from sklearn.metrics import confusion_matrix\n",
        "cm = confusion_matrix(ytst, yprd)\n",
        "\n",
        "import seaborn as sns\n",
        "sns.heatmap(cm, square=True, annot=True, fmt='d', cbar=True,\n",
        "                    cmap=\"Spectral\",\n",
        "                    xticklabels=model.classes_,\n",
        "                    yticklabels=model.classes_)"
      ],
      "metadata": {
        "colab": {
          "base_uri": "https://localhost:8080/",
          "height": 447
        },
        "id": "JrPUaPI6AhsQ",
        "outputId": "c92535cd-bcdb-4035-a4d5-c72529a1c80c"
      },
      "execution_count": 765,
      "outputs": [
        {
          "output_type": "execute_result",
          "data": {
            "text/plain": [
              "<Axes: >"
            ]
          },
          "metadata": {},
          "execution_count": 765
        },
        {
          "output_type": "display_data",
          "data": {
            "text/plain": [
              "<Figure size 640x480 with 2 Axes>"
            ],
            "image/png": "[encoded data removed]"
          },
          "metadata": {}
        }
      ]
    },
    {
      "cell_type": "code",
      "source": [
        "from sklearn.naive_bayes import CategoricalNB\n",
        "from sklearn.metrics import accuracy_score\n",
        "\n",
        "model = CategoricalNB()\n",
        "model.fit(Xtrn, ytrn)\n",
        "\n",
        "yprd = model.predict(Xtst)\n",
        "accuracy = accuracy_score(ytst, yprd)\n",
        "\n",
        "print(\"accuracy: \" + str(accuracy))"
      ],
      "metadata": {
        "colab": {
          "base_uri": "https://localhost:8080/"
        },
        "id": "1DkCzTNF3uYk",
        "outputId": "c54b16a2-a034-4e47-d049-ceb5e97c24d0"
      },
      "execution_count": 766,
      "outputs": [
        {
          "output_type": "stream",
          "name": "stdout",
          "text": [
            "accuracy: 0.9699486928903005\n"
          ]
        }
      ]
    },
    {
      "cell_type": "code",
      "source": [
        "from sklearn.metrics import confusion_matrix\n",
        "cm = confusion_matrix(ytst, yprd)\n",
        "\n",
        "import seaborn as sns\n",
        "sns.heatmap(cm, square=True, annot=True, fmt='d', cbar=True,\n",
        "                    cmap=\"Spectral\",\n",
        "                    xticklabels=model.classes_,\n",
        "                    yticklabels=model.classes_)"
      ],
      "metadata": {
        "colab": {
          "base_uri": "https://localhost:8080/",
          "height": 447
        },
        "id": "eXUxT6yZAiWp",
        "outputId": "a9a6fa85-60a6-432a-80a0-94b4e6b69e69"
      },
      "execution_count": 767,
      "outputs": [
        {
          "output_type": "execute_result",
          "data": {
            "text/plain": [
              "<Axes: >"
            ]
          },
          "metadata": {},
          "execution_count": 767
        },
        {
          "output_type": "display_data",
          "data": {
            "text/plain": [
              "<Figure size 640x480 with 2 Axes>"
            ],
            "image/png": "[encoded data removed]"
          },
          "metadata": {}
        }
      ]
    }
  ]
}